{
 "cells": [
  {
   "cell_type": "code",
   "execution_count": 10,
   "id": "together-montana",
   "metadata": {},
   "outputs": [
    {
     "name": "stdout",
     "output_type": "stream",
     "text": [
      "Defining f0, f1\n"
     ]
    }
   ],
   "source": [
    "Zn = Zmod(n)\n",
    "G0= Zn.unit_group()\n",
    "G0.inject_variables()"
   ]
  },
  {
   "cell_type": "code",
   "execution_count": 11,
   "id": "varied-scale",
   "metadata": {},
   "outputs": [
    {
     "data": {
      "text/plain": [
       "11"
      ]
     },
     "execution_count": 11,
     "metadata": {},
     "output_type": "execute_result"
    }
   ],
   "source": [
    "Zn(f0)"
   ]
  },
  {
   "cell_type": "code",
   "execution_count": 12,
   "id": "conscious-filling",
   "metadata": {},
   "outputs": [
    {
     "data": {
      "text/plain": [
       "7"
      ]
     },
     "execution_count": 12,
     "metadata": {},
     "output_type": "execute_result"
    }
   ],
   "source": [
    "Zn(f1)"
   ]
  },
  {
   "cell_type": "code",
   "execution_count": 114,
   "id": "fixed-council",
   "metadata": {},
   "outputs": [],
   "source": [
    "Qn.<z>=CyclotomicField(n)"
   ]
  },
  {
   "cell_type": "code",
   "execution_count": 115,
   "id": "wrapped-commons",
   "metadata": {},
   "outputs": [],
   "source": [
    "G_0 = Qn.galois_group()"
   ]
  },
  {
   "cell_type": "code",
   "execution_count": 143,
   "id": "smooth-warning",
   "metadata": {},
   "outputs": [],
   "source": [
    "K = Qn.subfield(z + z^-1)"
   ]
  },
  {
   "cell_type": "markdown",
   "id": "specific-blocking",
   "metadata": {},
   "source": [
    "## Definizione di $n$ e sua fattorizzazione"
   ]
  },
  {
   "cell_type": "code",
   "execution_count": 179,
   "id": "middle-command",
   "metadata": {},
   "outputs": [
    {
     "data": {
      "text/plain": [
       "5 * 7 * 11"
      ]
     },
     "execution_count": 179,
     "metadata": {},
     "output_type": "execute_result"
    }
   ],
   "source": [
    "n=3*5*7*11\n",
    "fn = factor(n)\n",
    "fn"
   ]
  },
  {
   "cell_type": "markdown",
   "id": "legitimate-pharmacology",
   "metadata": {},
   "source": [
    "## Power set $P_S$"
   ]
  },
  {
   "cell_type": "code",
   "execution_count": 180,
   "id": "cordless-premiere",
   "metadata": {},
   "outputs": [],
   "source": [
    "s = len(fn)\n",
    "S = [ i +1 for i in range(s)]\n",
    "PS = Subsets(S).list()\n",
    "PS.remove(Set(S))"
   ]
  },
  {
   "cell_type": "code",
   "execution_count": 181,
   "id": "straight-karaoke",
   "metadata": {},
   "outputs": [
    {
     "data": {
      "text/plain": [
       "[{}, {1}, {2}, {3}, {1, 2}, {1, 3}, {2, 3}]"
      ]
     },
     "execution_count": 181,
     "metadata": {},
     "output_type": "execute_result"
    }
   ],
   "source": [
    "PS"
   ]
  },
  {
   "cell_type": "markdown",
   "id": "upset-local",
   "metadata": {},
   "source": [
    "## Define the group $G_0$"
   ]
  },
  {
   "cell_type": "code",
   "execution_count": 182,
   "id": "level-crack",
   "metadata": {},
   "outputs": [],
   "source": [
    "Qn.<z>=CyclotomicField(n)\n",
    "G_0 = Qn.galois_group()"
   ]
  },
  {
   "cell_type": "code",
   "execution_count": 210,
   "id": "arranged-rough",
   "metadata": {},
   "outputs": [
    {
     "data": {
      "text/plain": [
       "Ring endomorphism of Cyclotomic Field of order 385 and degree 240\n",
       "  Defn: z |--> z^123"
      ]
     },
     "execution_count": 210,
     "metadata": {},
     "output_type": "execute_result"
    }
   ],
   "source": [
    "G_0.an_element().as_hom()"
   ]
  },
  {
   "cell_type": "code",
   "execution_count": null,
   "id": "healthy-bacteria",
   "metadata": {},
   "outputs": [],
   "source": [
    "G_0.an_element().as_hom"
   ]
  },
  {
   "cell_type": "markdown",
   "id": "thrown-promise",
   "metadata": {},
   "source": [
    "## Group Ring\n",
    "We assume that $G_0$ is the group to work with"
   ]
  },
  {
   "cell_type": "code",
   "execution_count": 117,
   "id": "selective-wisdom",
   "metadata": {},
   "outputs": [],
   "source": [
    "A  = GroupAlgebra(G_0, ZZ)"
   ]
  },
  {
   "cell_type": "code",
   "execution_count": null,
   "id": "built-leather",
   "metadata": {},
   "outputs": [],
   "source": [
    "G_0.list()"
   ]
  },
  {
   "cell_type": "code",
   "execution_count": null,
   "id": "enclosed-floor",
   "metadata": {},
   "outputs": [],
   "source": []
  },
  {
   "cell_type": "markdown",
   "id": "cognitive-marble",
   "metadata": {},
   "source": [
    "## Definition of $\\beta$"
   ]
  },
  {
   "cell_type": "code",
   "execution_count": 102,
   "id": "clinical-shoulder",
   "metadata": {},
   "outputs": [],
   "source": [
    "def beta0(i : int):\n",
    "    return i"
   ]
  },
  {
   "cell_type": "code",
   "execution_count": 103,
   "id": "returning-sharing",
   "metadata": {},
   "outputs": [
    {
     "data": {
      "text/plain": [
       "[1, 2]"
      ]
     },
     "execution_count": 103,
     "metadata": {},
     "output_type": "execute_result"
    }
   ],
   "source": [
    "[ beta0(i) for i in S]"
   ]
  },
  {
   "cell_type": "code",
   "execution_count": 108,
   "id": "absolute-sweden",
   "metadata": {},
   "outputs": [],
   "source": [
    "def beta(I : set):\n",
    "    r = 1\n",
    "    for j in I:\n",
    "        r = r * beta0(j)\n",
    "    return r"
   ]
  },
  {
   "cell_type": "markdown",
   "id": "british-repeat",
   "metadata": {},
   "source": [
    "# Calculation of the index\n",
    "First we define the number field $K$ as the Maximal Real subfield of $\\mathbb{Q}(\\zeta_n)$"
   ]
  },
  {
   "cell_type": "code",
   "execution_count": 183,
   "id": "blank-football",
   "metadata": {},
   "outputs": [],
   "source": [
    "Fn.<z> = CyclotomicField(n)\n",
    "K = Fn.subfield(z + z^-1)"
   ]
  },
  {
   "cell_type": "markdown",
   "id": "russian-eating",
   "metadata": {},
   "source": [
    "We define $\\epsilon_i$ knowing that is equal to $\\phi(p_i^{e_i})$"
   ]
  },
  {
   "cell_type": "code",
   "execution_count": 184,
   "id": "indonesian-calendar",
   "metadata": {},
   "outputs": [],
   "source": [
    "def eps(i):\n",
    "    return euler_phi(fn[i-1][0]**fn[i-1][1])"
   ]
  },
  {
   "cell_type": "code",
   "execution_count": 185,
   "id": "respiratory-champion",
   "metadata": {},
   "outputs": [
    {
     "data": {
      "text/plain": [
       "6"
      ]
     },
     "execution_count": 185,
     "metadata": {},
     "output_type": "execute_result"
    }
   ],
   "source": [
    "eps(2)"
   ]
  },
  {
   "cell_type": "code",
   "execution_count": 186,
   "id": "regulated-familiar",
   "metadata": {},
   "outputs": [],
   "source": [
    "zz = z + z.conjugate()"
   ]
  },
  {
   "cell_type": "code",
   "execution_count": 187,
   "id": "involved-simpson",
   "metadata": {},
   "outputs": [],
   "source": [
    "K = NumberField(zz.minpoly(),'a')"
   ]
  },
  {
   "cell_type": "code",
   "execution_count": 188,
   "id": "limiting-syracuse",
   "metadata": {},
   "outputs": [],
   "source": [
    "def g(i):\n",
    "    I = K.ideal(fn[i-1][0])\n",
    "    return len(I.factor())"
   ]
  },
  {
   "cell_type": "code",
   "execution_count": 189,
   "id": "instant-plain",
   "metadata": {},
   "outputs": [
    {
     "data": {
      "text/plain": [
       "1"
      ]
     },
     "execution_count": 189,
     "metadata": {},
     "output_type": "execute_result"
    }
   ],
   "source": [
    "g(2)"
   ]
  },
  {
   "cell_type": "markdown",
   "id": "running-criminal",
   "metadata": {},
   "source": [
    "For $f_i$ we use the equality $[K:\\mathbb{Q}] = \\epsilon_i g_i f_i $ since we know the other three elements.  \n",
    "*Memo*: $[K:\\mathbb{Q}] = \\phi(n)/2 $"
   ]
  },
  {
   "cell_type": "code",
   "execution_count": 164,
   "id": "liked-review",
   "metadata": {},
   "outputs": [],
   "source": [
    "def f(i):\n",
    "    return euler_phi(n)/(2*g(i)*eps(i))"
   ]
  },
  {
   "cell_type": "code",
   "execution_count": 168,
   "id": "hairy-incident",
   "metadata": {},
   "outputs": [
    {
     "data": {
      "text/plain": [
       "1"
      ]
     },
     "execution_count": 168,
     "metadata": {},
     "output_type": "execute_result"
    }
   ],
   "source": [
    "f(2)"
   ]
  },
  {
   "cell_type": "markdown",
   "id": "light-removal",
   "metadata": {},
   "source": [
    "So we have that:"
   ]
  },
  {
   "cell_type": "code",
   "execution_count": 199,
   "id": "cellular-regular",
   "metadata": {},
   "outputs": [],
   "source": [
    "def i_b():\n",
    "    i_b=1\n",
    "    for i in S:\n",
    "        i_b *= (eps(i)**(g(i)-1)) * (f(i)**(2*g(i) -1))\n",
    "    return i_b"
   ]
  },
  {
   "cell_type": "code",
   "execution_count": 194,
   "id": "celtic-program",
   "metadata": {},
   "outputs": [
    {
     "data": {
      "text/plain": [
       "1312200000"
      ]
     },
     "execution_count": 194,
     "metadata": {},
     "output_type": "execute_result"
    }
   ],
   "source": [
    "i = i_b(n)\n",
    "i"
   ]
  },
  {
   "cell_type": "code",
   "execution_count": 195,
   "id": "offshore-heaven",
   "metadata": {},
   "outputs": [
    {
     "data": {
      "text/plain": [
       "2^6 * 3^8 * 5^5"
      ]
     },
     "execution_count": 195,
     "metadata": {},
     "output_type": "execute_result"
    }
   ],
   "source": [
    "factor(i)"
   ]
  },
  {
   "cell_type": "code",
   "execution_count": 221,
   "id": "simplified-migration",
   "metadata": {},
   "outputs": [],
   "source": [
    "def i_b_compressed(n):\n",
    "    fn = factor(n)\n",
    "    s = len(fn)\n",
    "    S = [ i +1 for i in range(s)]\n",
    "    K.<z> = CyclotomicField(n)\n",
    "    zz = z + z.conjugate()\n",
    "    K = NumberField(zz.minpoly(),'a')\n",
    "    ibb=1\n",
    "    for j in S:\n",
    "        eps = euler_phi(fn[j-1][0]**fn[j-1][1])\n",
    "        g = len(K.ideal(fn[j-1][0]).factor())\n",
    "        f = euler_phi(n)/(2*g*eps)\n",
    "        ibb *= (eps**(g-1)) * (f**(2*g-1))\n",
    "    return ibb"
   ]
  },
  {
   "cell_type": "code",
   "execution_count": null,
   "id": "unknown-monte",
   "metadata": {},
   "outputs": [],
   "source": [
    "factor(i_b_compressed(3*5*7*11))"
   ]
  },
  {
   "cell_type": "code",
   "execution_count": null,
   "id": "signal-senator",
   "metadata": {},
   "outputs": [],
   "source": []
  }
 ],
 "metadata": {
  "kernelspec": {
   "display_name": "SageMath 9.2",
   "language": "sage",
   "name": "sagemath"
  },
  "language_info": {
   "codemirror_mode": {
    "name": "ipython",
    "version": 3
   },
   "file_extension": ".py",
   "mimetype": "text/x-python",
   "name": "python",
   "nbconvert_exporter": "python",
   "pygments_lexer": "ipython3",
   "version": "3.9.1"
  }
 },
 "nbformat": 4,
 "nbformat_minor": 5
}
