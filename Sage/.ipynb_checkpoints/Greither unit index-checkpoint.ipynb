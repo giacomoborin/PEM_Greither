{
 "cells": [
  {
   "cell_type": "code",
   "execution_count": null,
   "id": "disciplinary-guide",
   "metadata": {},
   "outputs": [],
   "source": [
    "class GalMRS(Group):\n",
    "    "
   ]
  },
  {
   "cell_type": "code",
   "execution_count": 9,
   "id": "automotive-plenty",
   "metadata": {},
   "outputs": [],
   "source": [
    "n=15"
   ]
  },
  {
   "cell_type": "code",
   "execution_count": 10,
   "id": "coupled-stand",
   "metadata": {},
   "outputs": [
    {
     "name": "stdout",
     "output_type": "stream",
     "text": [
      "Defining f0, f1\n"
     ]
    }
   ],
   "source": [
    "Zn = Zmod(n)\n",
    "G0= Zn.unit_group()\n",
    "G0.inject_variables()"
   ]
  },
  {
   "cell_type": "code",
   "execution_count": 11,
   "id": "valuable-latin",
   "metadata": {},
   "outputs": [
    {
     "data": {
      "text/plain": [
       "11"
      ]
     },
     "execution_count": 11,
     "metadata": {},
     "output_type": "execute_result"
    }
   ],
   "source": [
    "Zn(f0)"
   ]
  },
  {
   "cell_type": "code",
   "execution_count": 12,
   "id": "suited-terry",
   "metadata": {},
   "outputs": [
    {
     "data": {
      "text/plain": [
       "7"
      ]
     },
     "execution_count": 12,
     "metadata": {},
     "output_type": "execute_result"
    }
   ],
   "source": [
    "Zn(f1)"
   ]
  },
  {
   "cell_type": "code",
   "execution_count": 19,
   "id": "above-welding",
   "metadata": {},
   "outputs": [],
   "source": [
    "Qn.<z>=CyclotomicField(n)"
   ]
  },
  {
   "cell_type": "code",
   "execution_count": 20,
   "id": "norman-collaboration",
   "metadata": {},
   "outputs": [
    {
     "data": {
      "text/plain": [
       "Galois group of Cyclotomic Field of order 15 and degree 8"
      ]
     },
     "execution_count": 20,
     "metadata": {},
     "output_type": "execute_result"
    }
   ],
   "source": [
    "Qn.galois_group()"
   ]
  },
  {
   "cell_type": "code",
   "execution_count": 24,
   "id": "boring-favor",
   "metadata": {},
   "outputs": [],
   "source": [
    "K = Qn.subfield(z + z^-1)"
   ]
  },
  {
   "cell_type": "code",
   "execution_count": 25,
   "id": "educational-trauma",
   "metadata": {},
   "outputs": [
    {
     "data": {
      "text/plain": [
       "(Number Field in z0 with defining polynomial x^4 - x^3 - 4*x^2 + 4*x + 1 with z0 = 1.827090915285202?,\n",
       " Ring morphism:\n",
       "   From: Number Field in z0 with defining polynomial x^4 - x^3 - 4*x^2 + 4*x + 1 with z0 = 1.827090915285202?\n",
       "   To:   Cyclotomic Field of order 15 and degree 8\n",
       "   Defn: z0 |--> -z^7 + z^6 - z^4 + z^3 - z^2 + z + 1)"
      ]
     },
     "execution_count": 25,
     "metadata": {},
     "output_type": "execute_result"
    }
   ],
   "source": [
    "K"
   ]
  },
  {
   "cell_type": "markdown",
   "id": "early-cattle",
   "metadata": {},
   "source": [
    "## Power set $P_S$"
   ]
  },
  {
   "cell_type": "code",
   "execution_count": 29,
   "id": "unable-richards",
   "metadata": {},
   "outputs": [],
   "source": [
    "s = len(factor(n))\n",
    "S = range(1,s+1)"
   ]
  },
  {
   "cell_type": "code",
   "execution_count": null,
   "id": "trained-twins",
   "metadata": {},
   "outputs": [],
   "source": []
  }
 ],
 "metadata": {
  "kernelspec": {
   "display_name": "SageMath 9.2",
   "language": "sage",
   "name": "sagemath"
  },
  "language_info": {
   "codemirror_mode": {
    "name": "ipython",
    "version": 3
   },
   "file_extension": ".py",
   "mimetype": "text/x-python",
   "name": "python",
   "nbconvert_exporter": "python",
   "pygments_lexer": "ipython3",
   "version": "3.9.1"
  }
 },
 "nbformat": 4,
 "nbformat_minor": 5
}
