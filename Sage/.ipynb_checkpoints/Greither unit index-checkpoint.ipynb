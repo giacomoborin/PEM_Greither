{
 "cells": [
  {
   "cell_type": "code",
   "execution_count": 10,
   "id": "eastern-detection",
   "metadata": {},
   "outputs": [
    {
     "name": "stdout",
     "output_type": "stream",
     "text": [
      "Defining f0, f1\n"
     ]
    }
   ],
   "source": [
    "Zn = Zmod(n)\n",
    "G0= Zn.unit_group()\n",
    "G0.inject_variables()"
   ]
  },
  {
   "cell_type": "code",
   "execution_count": 11,
   "id": "occasional-sitting",
   "metadata": {},
   "outputs": [
    {
     "data": {
      "text/plain": [
       "11"
      ]
     },
     "execution_count": 11,
     "metadata": {},
     "output_type": "execute_result"
    }
   ],
   "source": [
    "Zn(f0)"
   ]
  },
  {
   "cell_type": "code",
   "execution_count": 12,
   "id": "lonely-alert",
   "metadata": {},
   "outputs": [
    {
     "data": {
      "text/plain": [
       "7"
      ]
     },
     "execution_count": 12,
     "metadata": {},
     "output_type": "execute_result"
    }
   ],
   "source": [
    "Zn(f1)"
   ]
  },
  {
   "cell_type": "code",
   "execution_count": 114,
   "id": "checked-accident",
   "metadata": {},
   "outputs": [],
   "source": [
    "Qn.<z>=CyclotomicField(n)"
   ]
  },
  {
   "cell_type": "code",
   "execution_count": 115,
   "id": "heard-gothic",
   "metadata": {},
   "outputs": [],
   "source": [
    "G_0 = Qn.galois_group()"
   ]
  },
  {
   "cell_type": "code",
   "execution_count": 143,
   "id": "drawn-disaster",
   "metadata": {},
   "outputs": [],
   "source": [
    "K = Qn.subfield(z + z^-1)"
   ]
  },
  {
   "cell_type": "markdown",
   "id": "arranged-victoria",
   "metadata": {},
   "source": [
    "## Definizione di $n$ e sua fattorizzazione"
   ]
  },
  {
   "cell_type": "code",
   "execution_count": 179,
   "id": "smaller-provincial",
   "metadata": {},
   "outputs": [
    {
     "data": {
      "text/plain": [
       "5 * 7 * 11"
      ]
     },
     "execution_count": 179,
     "metadata": {},
     "output_type": "execute_result"
    }
   ],
   "source": [
    "n=3*5*7*11\n",
    "fn = factor(n)\n",
    "fn"
   ]
  },
  {
   "cell_type": "markdown",
   "id": "differential-personality",
   "metadata": {},
   "source": [
    "## Power set $P_S$"
   ]
  },
  {
   "cell_type": "code",
   "execution_count": 180,
   "id": "seventh-pathology",
   "metadata": {},
   "outputs": [],
   "source": [
    "s = len(fn)\n",
    "S = [ i +1 for i in range(s)]\n",
    "PS = Subsets(S).list()\n",
    "PS.remove(Set(S))"
   ]
  },
  {
   "cell_type": "code",
   "execution_count": 181,
   "id": "weekly-warner",
   "metadata": {},
   "outputs": [
    {
     "data": {
      "text/plain": [
       "[{}, {1}, {2}, {3}, {1, 2}, {1, 3}, {2, 3}]"
      ]
     },
     "execution_count": 181,
     "metadata": {},
     "output_type": "execute_result"
    }
   ],
   "source": [
    "PS"
   ]
  },
  {
   "cell_type": "markdown",
   "id": "injured-butter",
   "metadata": {},
   "source": [
    "## Define the group $G_0$"
   ]
  },
  {
   "cell_type": "code",
   "execution_count": 182,
   "id": "partial-vanilla",
   "metadata": {},
   "outputs": [],
   "source": [
    "Qn.<z>=CyclotomicField(n)\n",
    "G_0 = Qn.galois_group()"
   ]
  },
  {
   "cell_type": "code",
   "execution_count": 210,
   "id": "accurate-antarctica",
   "metadata": {},
   "outputs": [
    {
     "data": {
      "text/plain": [
       "Ring endomorphism of Cyclotomic Field of order 385 and degree 240\n",
       "  Defn: z |--> z^123"
      ]
     },
     "execution_count": 210,
     "metadata": {},
     "output_type": "execute_result"
    }
   ],
   "source": [
    "G_0.an_element().as_hom()"
   ]
  },
  {
   "cell_type": "code",
   "execution_count": null,
   "id": "excess-melissa",
   "metadata": {},
   "outputs": [],
   "source": [
    "G_0.an_element().as_hom"
   ]
  },
  {
   "cell_type": "markdown",
   "id": "settled-reality",
   "metadata": {},
   "source": [
    "## Group Ring\n",
    "We assume that $G_0$ is the group to work with"
   ]
  },
  {
   "cell_type": "code",
   "execution_count": 225,
   "id": "passing-supervisor",
   "metadata": {},
   "outputs": [],
   "source": [
    "A  = GroupAlgebra(G_0, ZZ)"
   ]
  },
  {
   "cell_type": "code",
   "execution_count": 232,
   "id": "hundred-blanket",
   "metadata": {},
   "outputs": [],
   "source": [
    "ax = A.an_element()"
   ]
  },
  {
   "cell_type": "code",
   "execution_count": 237,
   "id": "superb-block",
   "metadata": {},
   "outputs": [
    {
     "ename": "RuntimeError",
     "evalue": "There is a bug in the coercion code in Sage.\nBoth x (=()) and y (=(1,182,3,184,5,186,7,188,9,190,11,192,13,194,15,196,17,198,19,200,21,202,23,204,25,206,27,208,29,210,31,212,33,214,35,216,37,218,39,220,41,222,43,224,45,226,47,228,49,230,51,232,53,234,55,236,57,238,59,240)(2,183,4,185,6,187,8,189,10,191,12,193,14,195,16,197,18,199,20,201,22,203,24,205,26,207,28,209,30,211,32,213,34,215,36,217,38,219,40,221,42,223,44,225,46,227,48,229,50,231,52,233,54,235,56,237,58,239,60,181)(61,122,63,124,65,126,67,128,69,130,71,132,73,134,75,136,77,138,79,140,81,142,83,144,85,146,87,148,89,150,91,152,93,154,95,156,97,158,99,160,101,162,103,164,105,166,107,168,109,170,111,172,113,174,115,176,117,178,119,180)(62,123,64,125,66,127,68,129,70,131,72,133,74,135,76,137,78,139,80,141,82,143,84,145,86,147,88,149,90,151,92,153,94,155,96,157,98,159,100,161,102,163,104,165,106,167,108,169,110,171,112,173,114,175,116,177,118,179,120,121)) are supposed to have identical parents but they don't.\nIn fact, x has parent 'Galois group of Cyclotomic Field of order 385 and degree 240'\nwhereas y has parent 'Galois group of Cyclotomic Field of order 385 and degree 240'\nOriginal elements () (parent Galois group of Cyclotomic Field of order 385 and degree 240) and (1,182,3,184,5,186,7,188,9,190,11,192,13,194,15,196,17,198,19,200,21,202,23,204,25,206,27,208,29,210,31,212,33,214,35,216,37,218,39,220,41,222,43,224,45,226,47,228,49,230,51,232,53,234,55,236,57,238,59,240)(2,183,4,185,6,187,8,189,10,191,12,193,14,195,16,197,18,199,20,201,22,203,24,205,26,207,28,209,30,211,32,213,34,215,36,217,38,219,40,221,42,223,44,225,46,227,48,229,50,231,52,233,54,235,56,237,58,239,60,181)(61,122,63,124,65,126,67,128,69,130,71,132,73,134,75,136,77,138,79,140,81,142,83,144,85,146,87,148,89,150,91,152,93,154,95,156,97,158,99,160,101,162,103,164,105,166,107,168,109,170,111,172,113,174,115,176,117,178,119,180)(62,123,64,125,66,127,68,129,70,131,72,133,74,135,76,137,78,139,80,141,82,143,84,145,86,147,88,149,90,151,92,153,94,155,96,157,98,159,100,161,102,163,104,165,106,167,108,169,110,171,112,173,114,175,116,177,118,179,120,121) (parent Galois group of Cyclotomic Field of order 385 and degree 240) and maps\n<class 'NoneType'> None\n<class 'sage.structure.coerce_maps.DefaultConvertMap_unique'> (map internal to coercion system -- copy before use)\nCoercion map:\n  From: Galois group of Cyclotomic Field of order 385 and degree 240\n  To:   Galois group of Cyclotomic Field of order 385 and degree 240",
     "output_type": "error",
     "traceback": [
      "\u001b[0;31m---------------------------------------------------------------------------\u001b[0m",
      "\u001b[0;31mRuntimeError\u001b[0m                              Traceback (most recent call last)",
      "\u001b[0;32m<ipython-input-237-2b12a781287b>\u001b[0m in \u001b[0;36m<module>\u001b[0;34m\u001b[0m\n\u001b[0;32m----> 1\u001b[0;31m \u001b[0max\u001b[0m\u001b[0;34m.\u001b[0m\u001b[0mpowers\u001b[0m\u001b[0;34m(\u001b[0m\u001b[0mn\u001b[0m\u001b[0;34m)\u001b[0m\u001b[0;34m\u001b[0m\u001b[0;34m\u001b[0m\u001b[0m\n\u001b[0m",
      "\u001b[0;32m~/miniconda3/envs/sage/lib/python3.9/site-packages/sage/categories/monoids.py\u001b[0m in \u001b[0;36mpowers\u001b[0;34m(self, n)\u001b[0m\n\u001b[1;32m    310\u001b[0m             \u001b[0ml\u001b[0m \u001b[0;34m=\u001b[0m \u001b[0;34m[\u001b[0m\u001b[0mx\u001b[0m\u001b[0;34m]\u001b[0m\u001b[0;34m\u001b[0m\u001b[0;34m\u001b[0m\u001b[0m\n\u001b[1;32m    311\u001b[0m             \u001b[0;32mfor\u001b[0m \u001b[0mi\u001b[0m \u001b[0;32min\u001b[0m \u001b[0mrange\u001b[0m\u001b[0;34m(\u001b[0m\u001b[0mn\u001b[0m \u001b[0;34m-\u001b[0m \u001b[0;36m1\u001b[0m\u001b[0;34m)\u001b[0m\u001b[0;34m:\u001b[0m\u001b[0;34m\u001b[0m\u001b[0;34m\u001b[0m\u001b[0m\n\u001b[0;32m--> 312\u001b[0;31m                 \u001b[0mx\u001b[0m \u001b[0;34m=\u001b[0m \u001b[0mx\u001b[0m \u001b[0;34m*\u001b[0m \u001b[0mself\u001b[0m\u001b[0;34m\u001b[0m\u001b[0;34m\u001b[0m\u001b[0m\n\u001b[0m\u001b[1;32m    313\u001b[0m                 \u001b[0ml\u001b[0m\u001b[0;34m.\u001b[0m\u001b[0mappend\u001b[0m\u001b[0;34m(\u001b[0m\u001b[0mx\u001b[0m\u001b[0;34m)\u001b[0m\u001b[0;34m\u001b[0m\u001b[0;34m\u001b[0m\u001b[0m\n\u001b[1;32m    314\u001b[0m             \u001b[0;32mreturn\u001b[0m \u001b[0ml\u001b[0m\u001b[0;34m\u001b[0m\u001b[0;34m\u001b[0m\u001b[0m\n",
      "\u001b[0;32m~/miniconda3/envs/sage/lib/python3.9/site-packages/sage/structure/element.pyx\u001b[0m in \u001b[0;36msage.structure.element.Element.__mul__ (build/cythonized/sage/structure/element.c:12162)\u001b[0;34m()\u001b[0m\n\u001b[1;32m   1511\u001b[0m         \u001b[0mcdef\u001b[0m \u001b[0mint\u001b[0m \u001b[0mcl\u001b[0m \u001b[0;34m=\u001b[0m \u001b[0mclassify_elements\u001b[0m\u001b[0;34m(\u001b[0m\u001b[0mleft\u001b[0m\u001b[0;34m,\u001b[0m \u001b[0mright\u001b[0m\u001b[0;34m)\u001b[0m\u001b[0;34m\u001b[0m\u001b[0;34m\u001b[0m\u001b[0m\n\u001b[1;32m   1512\u001b[0m         \u001b[0;32mif\u001b[0m \u001b[0mHAVE_SAME_PARENT\u001b[0m\u001b[0;34m(\u001b[0m\u001b[0mcl\u001b[0m\u001b[0;34m)\u001b[0m\u001b[0;34m:\u001b[0m\u001b[0;34m\u001b[0m\u001b[0;34m\u001b[0m\u001b[0m\n\u001b[0;32m-> 1513\u001b[0;31m             \u001b[0;32mreturn\u001b[0m \u001b[0;34m(\u001b[0m\u001b[0;34m<\u001b[0m\u001b[0mElement\u001b[0m\u001b[0;34m>\u001b[0m\u001b[0mleft\u001b[0m\u001b[0;34m)\u001b[0m\u001b[0;34m.\u001b[0m\u001b[0m_mul_\u001b[0m\u001b[0;34m(\u001b[0m\u001b[0mright\u001b[0m\u001b[0;34m)\u001b[0m\u001b[0;34m\u001b[0m\u001b[0;34m\u001b[0m\u001b[0m\n\u001b[0m\u001b[1;32m   1514\u001b[0m         \u001b[0;32mif\u001b[0m \u001b[0mBOTH_ARE_ELEMENT\u001b[0m\u001b[0;34m(\u001b[0m\u001b[0mcl\u001b[0m\u001b[0;34m)\u001b[0m\u001b[0;34m:\u001b[0m\u001b[0;34m\u001b[0m\u001b[0;34m\u001b[0m\u001b[0m\n\u001b[1;32m   1515\u001b[0m             \u001b[0;32mreturn\u001b[0m \u001b[0mcoercion_model\u001b[0m\u001b[0;34m.\u001b[0m\u001b[0mbin_op\u001b[0m\u001b[0;34m(\u001b[0m\u001b[0mleft\u001b[0m\u001b[0;34m,\u001b[0m \u001b[0mright\u001b[0m\u001b[0;34m,\u001b[0m \u001b[0mmul\u001b[0m\u001b[0;34m)\u001b[0m\u001b[0;34m\u001b[0m\u001b[0;34m\u001b[0m\u001b[0m\n",
      "\u001b[0;32m~/miniconda3/envs/sage/lib/python3.9/site-packages/sage/structure/element.pyx\u001b[0m in \u001b[0;36msage.structure.element.Element._mul_ (build/cythonized/sage/structure/element.c:12515)\u001b[0;34m()\u001b[0m\n\u001b[1;32m   1557\u001b[0m             \u001b[0;32mraise\u001b[0m \u001b[0mbin_op_exception\u001b[0m\u001b[0;34m(\u001b[0m\u001b[0;34m'*'\u001b[0m\u001b[0;34m,\u001b[0m \u001b[0mself\u001b[0m\u001b[0;34m,\u001b[0m \u001b[0mother\u001b[0m\u001b[0;34m)\u001b[0m\u001b[0;34m\u001b[0m\u001b[0;34m\u001b[0m\u001b[0m\n\u001b[1;32m   1558\u001b[0m         \u001b[0;32melse\u001b[0m\u001b[0;34m:\u001b[0m\u001b[0;34m\u001b[0m\u001b[0;34m\u001b[0m\u001b[0m\n\u001b[0;32m-> 1559\u001b[0;31m             \u001b[0;32mreturn\u001b[0m \u001b[0mpython_op\u001b[0m\u001b[0;34m(\u001b[0m\u001b[0mother\u001b[0m\u001b[0;34m)\u001b[0m\u001b[0;34m\u001b[0m\u001b[0;34m\u001b[0m\u001b[0m\n\u001b[0m\u001b[1;32m   1560\u001b[0m \u001b[0;34m\u001b[0m\u001b[0m\n\u001b[1;32m   1561\u001b[0m     \u001b[0mcdef\u001b[0m \u001b[0m_mul_long\u001b[0m\u001b[0;34m(\u001b[0m\u001b[0mself\u001b[0m\u001b[0;34m,\u001b[0m \u001b[0mlong\u001b[0m \u001b[0mn\u001b[0m\u001b[0;34m)\u001b[0m\u001b[0;34m:\u001b[0m\u001b[0;34m\u001b[0m\u001b[0;34m\u001b[0m\u001b[0m\n",
      "\u001b[0;32m~/miniconda3/envs/sage/lib/python3.9/site-packages/sage/categories/coercion_methods.pyx\u001b[0m in \u001b[0;36msage.categories.coercion_methods._mul_parent (build/cythonized/sage/categories/coercion_methods.c:2283)\u001b[0;34m()\u001b[0m\n\u001b[1;32m     51\u001b[0m         \u001b[0;32mTrue\u001b[0m\u001b[0;34m\u001b[0m\u001b[0;34m\u001b[0m\u001b[0m\n\u001b[1;32m     52\u001b[0m     \"\"\"\n\u001b[0;32m---> 53\u001b[0;31m     \u001b[0;32mreturn\u001b[0m \u001b[0;34m(\u001b[0m\u001b[0;34m<\u001b[0m\u001b[0mElement\u001b[0m\u001b[0;34m>\u001b[0m\u001b[0mself\u001b[0m\u001b[0;34m)\u001b[0m\u001b[0;34m.\u001b[0m\u001b[0m_parent\u001b[0m\u001b[0;34m.\u001b[0m\u001b[0mproduct\u001b[0m\u001b[0;34m(\u001b[0m\u001b[0mself\u001b[0m\u001b[0;34m,\u001b[0m \u001b[0mother\u001b[0m\u001b[0;34m)\u001b[0m\u001b[0;34m\u001b[0m\u001b[0;34m\u001b[0m\u001b[0m\n\u001b[0m",
      "\u001b[0;32m~/miniconda3/envs/sage/lib/python3.9/site-packages/sage/categories/magmatic_algebras.py\u001b[0m in \u001b[0;36m_product_from_product_on_basis_multiply\u001b[0;34m(self, left, right)\u001b[0m\n\u001b[1;32m    216\u001b[0m \u001b[0;34m\u001b[0m\u001b[0m\n\u001b[1;32m    217\u001b[0m                 \"\"\"\n\u001b[0;32m--> 218\u001b[0;31m                 return self.linear_combination((self.product_on_basis(mon_left, mon_right), coeff_left * coeff_right )\n\u001b[0m\u001b[1;32m    219\u001b[0m                                                 \u001b[0;32mfor\u001b[0m \u001b[0;34m(\u001b[0m\u001b[0mmon_left\u001b[0m\u001b[0;34m,\u001b[0m \u001b[0mcoeff_left\u001b[0m\u001b[0;34m)\u001b[0m \u001b[0;32min\u001b[0m \u001b[0mleft\u001b[0m\u001b[0;34m.\u001b[0m\u001b[0mmonomial_coefficients\u001b[0m\u001b[0;34m(\u001b[0m\u001b[0;34m)\u001b[0m\u001b[0;34m.\u001b[0m\u001b[0mitems\u001b[0m\u001b[0;34m(\u001b[0m\u001b[0;34m)\u001b[0m\u001b[0;34m\u001b[0m\u001b[0;34m\u001b[0m\u001b[0m\n\u001b[1;32m    220\u001b[0m                                                 for (mon_right, coeff_right) in right.monomial_coefficients().items() )\n",
      "\u001b[0;32m~/miniconda3/envs/sage/lib/python3.9/site-packages/sage/combinat/free_module.py\u001b[0m in \u001b[0;36mlinear_combination\u001b[0;34m(self, iter_of_elements_coeff, factor_on_left)\u001b[0m\n\u001b[1;32m   1021\u001b[0m             \u001b[0;36m20\u001b[0m\u001b[0;34m*\u001b[0m\u001b[0mB\u001b[0m\u001b[0;34m[\u001b[0m\u001b[0;36m1\u001b[0m\u001b[0;34m]\u001b[0m \u001b[0;34m+\u001b[0m \u001b[0;36m20\u001b[0m\u001b[0;34m*\u001b[0m\u001b[0mB\u001b[0m\u001b[0;34m[\u001b[0m\u001b[0;36m2\u001b[0m\u001b[0;34m]\u001b[0m\u001b[0;34m\u001b[0m\u001b[0;34m\u001b[0m\u001b[0m\n\u001b[1;32m   1022\u001b[0m         \"\"\"\n\u001b[0;32m-> 1023\u001b[0;31m         return self._from_dict(blas.linear_combination( ((element._monomial_coefficients, coeff)\n\u001b[0m\u001b[1;32m   1024\u001b[0m                                                         for element, coeff in iter_of_elements_coeff),\n\u001b[1;32m   1025\u001b[0m                                                         factor_on_left=factor_on_left ),\n",
      "\u001b[0;32m~/miniconda3/envs/sage/lib/python3.9/site-packages/sage/data_structures/blas_dict.pyx\u001b[0m in \u001b[0;36msage.data_structures.blas_dict.linear_combination (build/cythonized/sage/data_structures/blas_dict.c:3581)\u001b[0;34m()\u001b[0m\n\u001b[1;32m    315\u001b[0m     \u001b[0;32mreturn\u001b[0m \u001b[0mresult\u001b[0m\u001b[0;34m\u001b[0m\u001b[0;34m\u001b[0m\u001b[0m\n\u001b[1;32m    316\u001b[0m \u001b[0;34m\u001b[0m\u001b[0m\n\u001b[0;32m--> 317\u001b[0;31m \u001b[0mcpdef\u001b[0m \u001b[0mdict\u001b[0m \u001b[0mlinear_combination\u001b[0m\u001b[0;34m(\u001b[0m\u001b[0mdict_factor_iter\u001b[0m\u001b[0;34m,\u001b[0m \u001b[0mbint\u001b[0m \u001b[0mfactor_on_left\u001b[0m\u001b[0;34m=\u001b[0m\u001b[0;32mTrue\u001b[0m\u001b[0;34m)\u001b[0m\u001b[0;34m:\u001b[0m\u001b[0;34m\u001b[0m\u001b[0;34m\u001b[0m\u001b[0m\n\u001b[0m\u001b[1;32m    318\u001b[0m     r\"\"\"\n\u001b[1;32m    319\u001b[0m     \u001b[0mReturn\u001b[0m \u001b[0mthe\u001b[0m \u001b[0mpointwise\u001b[0m \u001b[0maddition\u001b[0m \u001b[0mof\u001b[0m \u001b[0mdictionaries\u001b[0m \u001b[0;32mwith\u001b[0m \u001b[0mcoefficients\u001b[0m\u001b[0;34m.\u001b[0m\u001b[0;34m\u001b[0m\u001b[0;34m\u001b[0m\u001b[0m\n",
      "\u001b[0;32m~/miniconda3/envs/sage/lib/python3.9/site-packages/sage/data_structures/blas_dict.pyx\u001b[0m in \u001b[0;36msage.data_structures.blas_dict.linear_combination (build/cythonized/sage/data_structures/blas_dict.c:3204)\u001b[0;34m()\u001b[0m\n\u001b[1;32m    351\u001b[0m     \u001b[0mcdef\u001b[0m \u001b[0mlist\u001b[0m \u001b[0mfor_removal\u001b[0m\u001b[0;34m\u001b[0m\u001b[0;34m\u001b[0m\u001b[0m\n\u001b[1;32m    352\u001b[0m \u001b[0;34m\u001b[0m\u001b[0m\n\u001b[0;32m--> 353\u001b[0;31m     \u001b[0;32mfor\u001b[0m \u001b[0mD\u001b[0m\u001b[0;34m,\u001b[0m \u001b[0ma\u001b[0m \u001b[0;32min\u001b[0m \u001b[0mdict_factor_iter\u001b[0m\u001b[0;34m:\u001b[0m\u001b[0;34m\u001b[0m\u001b[0;34m\u001b[0m\u001b[0m\n\u001b[0m\u001b[1;32m    354\u001b[0m         \u001b[0;32mif\u001b[0m \u001b[0;32mnot\u001b[0m \u001b[0ma\u001b[0m\u001b[0;34m:\u001b[0m \u001b[0;31m# We multiply by 0, so nothing to do\u001b[0m\u001b[0;34m\u001b[0m\u001b[0;34m\u001b[0m\u001b[0m\n\u001b[1;32m    355\u001b[0m             \u001b[0;32mcontinue\u001b[0m\u001b[0;34m\u001b[0m\u001b[0;34m\u001b[0m\u001b[0m\n",
      "\u001b[0;32m~/miniconda3/envs/sage/lib/python3.9/site-packages/sage/combinat/free_module.py\u001b[0m in \u001b[0;36m<genexpr>\u001b[0;34m(.0)\u001b[0m\n\u001b[1;32m   1021\u001b[0m             \u001b[0;36m20\u001b[0m\u001b[0;34m*\u001b[0m\u001b[0mB\u001b[0m\u001b[0;34m[\u001b[0m\u001b[0;36m1\u001b[0m\u001b[0;34m]\u001b[0m \u001b[0;34m+\u001b[0m \u001b[0;36m20\u001b[0m\u001b[0;34m*\u001b[0m\u001b[0mB\u001b[0m\u001b[0;34m[\u001b[0m\u001b[0;36m2\u001b[0m\u001b[0;34m]\u001b[0m\u001b[0;34m\u001b[0m\u001b[0;34m\u001b[0m\u001b[0m\n\u001b[1;32m   1022\u001b[0m         \"\"\"\n\u001b[0;32m-> 1023\u001b[0;31m         return self._from_dict(blas.linear_combination( ((element._monomial_coefficients, coeff)\n\u001b[0m\u001b[1;32m   1024\u001b[0m                                                         for element, coeff in iter_of_elements_coeff),\n\u001b[1;32m   1025\u001b[0m                                                         factor_on_left=factor_on_left ),\n",
      "\u001b[0;32m~/miniconda3/envs/sage/lib/python3.9/site-packages/sage/categories/magmatic_algebras.py\u001b[0m in \u001b[0;36m<genexpr>\u001b[0;34m(.0)\u001b[0m\n\u001b[1;32m    216\u001b[0m \u001b[0;34m\u001b[0m\u001b[0m\n\u001b[1;32m    217\u001b[0m                 \"\"\"\n\u001b[0;32m--> 218\u001b[0;31m                 return self.linear_combination((self.product_on_basis(mon_left, mon_right), coeff_left * coeff_right )\n\u001b[0m\u001b[1;32m    219\u001b[0m                                                 \u001b[0;32mfor\u001b[0m \u001b[0;34m(\u001b[0m\u001b[0mmon_left\u001b[0m\u001b[0;34m,\u001b[0m \u001b[0mcoeff_left\u001b[0m\u001b[0;34m)\u001b[0m \u001b[0;32min\u001b[0m \u001b[0mleft\u001b[0m\u001b[0;34m.\u001b[0m\u001b[0mmonomial_coefficients\u001b[0m\u001b[0;34m(\u001b[0m\u001b[0;34m)\u001b[0m\u001b[0;34m.\u001b[0m\u001b[0mitems\u001b[0m\u001b[0;34m(\u001b[0m\u001b[0;34m)\u001b[0m\u001b[0;34m\u001b[0m\u001b[0;34m\u001b[0m\u001b[0m\n\u001b[1;32m    220\u001b[0m                                                 for (mon_right, coeff_right) in right.monomial_coefficients().items() )\n",
      "\u001b[0;32m~/miniconda3/envs/sage/lib/python3.9/site-packages/sage/categories/semigroups.py\u001b[0m in \u001b[0;36mproduct_on_basis\u001b[0;34m(self, g1, g2)\u001b[0m\n\u001b[1;32m    956\u001b[0m                     \u001b[0mB\u001b[0m\u001b[0;34m[\u001b[0m\u001b[0;34m'ab'\u001b[0m\u001b[0;34m]\u001b[0m \u001b[0;34m+\u001b[0m \u001b[0mB\u001b[0m\u001b[0;34m[\u001b[0m\u001b[0;34m'bdc'\u001b[0m\u001b[0;34m]\u001b[0m\u001b[0;34m\u001b[0m\u001b[0;34m\u001b[0m\u001b[0m\n\u001b[1;32m    957\u001b[0m                 \"\"\"\n\u001b[0;32m--> 958\u001b[0;31m                 \u001b[0;32mreturn\u001b[0m \u001b[0mself\u001b[0m\u001b[0;34m.\u001b[0m\u001b[0mmonomial\u001b[0m\u001b[0;34m(\u001b[0m\u001b[0mg1\u001b[0m \u001b[0;34m*\u001b[0m \u001b[0mg2\u001b[0m\u001b[0;34m)\u001b[0m\u001b[0;34m\u001b[0m\u001b[0;34m\u001b[0m\u001b[0m\n\u001b[0m\u001b[1;32m    959\u001b[0m \u001b[0;34m\u001b[0m\u001b[0m\n\u001b[1;32m    960\u001b[0m             \u001b[0;32mdef\u001b[0m \u001b[0mtrivial_representation\u001b[0m\u001b[0;34m(\u001b[0m\u001b[0mself\u001b[0m\u001b[0;34m,\u001b[0m \u001b[0mside\u001b[0m\u001b[0;34m=\u001b[0m\u001b[0;34m\"twosided\"\u001b[0m\u001b[0;34m)\u001b[0m\u001b[0;34m:\u001b[0m\u001b[0;34m\u001b[0m\u001b[0;34m\u001b[0m\u001b[0m\n",
      "\u001b[0;32m~/miniconda3/envs/sage/lib/python3.9/site-packages/sage/groups/perm_gps/permgroup_element.pyx\u001b[0m in \u001b[0;36msage.groups.perm_gps.permgroup_element.PermutationGroupElement.__mul__ (build/cythonized/sage/groups/perm_gps/permgroup_element.c:13419)\u001b[0;34m()\u001b[0m\n\u001b[1;32m   1294\u001b[0m                 \u001b[0;32mreturn\u001b[0m \u001b[0mprod\u001b[0m\u001b[0;34m\u001b[0m\u001b[0;34m\u001b[0m\u001b[0m\n\u001b[1;32m   1295\u001b[0m \u001b[0;34m\u001b[0m\u001b[0m\n\u001b[0;32m-> 1296\u001b[0;31m         \u001b[0;32mreturn\u001b[0m \u001b[0mcoercion_model\u001b[0m\u001b[0;34m.\u001b[0m\u001b[0mbin_op\u001b[0m\u001b[0;34m(\u001b[0m\u001b[0mleft\u001b[0m\u001b[0;34m,\u001b[0m \u001b[0mright\u001b[0m\u001b[0;34m,\u001b[0m \u001b[0moperator\u001b[0m\u001b[0;34m.\u001b[0m\u001b[0mmul\u001b[0m\u001b[0;34m)\u001b[0m\u001b[0;34m\u001b[0m\u001b[0;34m\u001b[0m\u001b[0m\n\u001b[0m\u001b[1;32m   1297\u001b[0m \u001b[0;34m\u001b[0m\u001b[0m\n\u001b[1;32m   1298\u001b[0m     \u001b[0mcpdef\u001b[0m \u001b[0m_mul_\u001b[0m\u001b[0;34m(\u001b[0m\u001b[0mleft\u001b[0m\u001b[0;34m,\u001b[0m \u001b[0m_right\u001b[0m\u001b[0;34m)\u001b[0m\u001b[0;34m:\u001b[0m\u001b[0;34m\u001b[0m\u001b[0;34m\u001b[0m\u001b[0m\n",
      "\u001b[0;32m~/miniconda3/envs/sage/lib/python3.9/site-packages/sage/structure/coerce.pyx\u001b[0m in \u001b[0;36msage.structure.coerce.CoercionModel.bin_op (build/cythonized/sage/structure/coerce.c:10243)\u001b[0;34m()\u001b[0m\n\u001b[1;32m   1198\u001b[0m         \u001b[0;31m# Now coerce to a common parent and do the operation there\u001b[0m\u001b[0;34m\u001b[0m\u001b[0;34m\u001b[0m\u001b[0;34m\u001b[0m\u001b[0m\n\u001b[1;32m   1199\u001b[0m         \u001b[0;32mtry\u001b[0m\u001b[0;34m:\u001b[0m\u001b[0;34m\u001b[0m\u001b[0;34m\u001b[0m\u001b[0m\n\u001b[0;32m-> 1200\u001b[0;31m             \u001b[0mxy\u001b[0m \u001b[0;34m=\u001b[0m \u001b[0mself\u001b[0m\u001b[0;34m.\u001b[0m\u001b[0mcanonical_coercion\u001b[0m\u001b[0;34m(\u001b[0m\u001b[0mx\u001b[0m\u001b[0;34m,\u001b[0m \u001b[0my\u001b[0m\u001b[0;34m)\u001b[0m\u001b[0;34m\u001b[0m\u001b[0;34m\u001b[0m\u001b[0m\n\u001b[0m\u001b[1;32m   1201\u001b[0m         \u001b[0;32mexcept\u001b[0m \u001b[0mTypeError\u001b[0m\u001b[0;34m:\u001b[0m\u001b[0;34m\u001b[0m\u001b[0;34m\u001b[0m\u001b[0m\n\u001b[1;32m   1202\u001b[0m             \u001b[0mself\u001b[0m\u001b[0;34m.\u001b[0m\u001b[0m_record_exception\u001b[0m\u001b[0;34m(\u001b[0m\u001b[0;34m)\u001b[0m\u001b[0;34m\u001b[0m\u001b[0;34m\u001b[0m\u001b[0m\n",
      "\u001b[0;32m~/miniconda3/envs/sage/lib/python3.9/site-packages/sage/structure/coerce.pyx\u001b[0m in \u001b[0;36msage.structure.coerce.CoercionModel.canonical_coercion (build/cythonized/sage/structure/coerce.c:12084)\u001b[0;34m()\u001b[0m\n\u001b[1;32m   1330\u001b[0m                 \u001b[0;32mif\u001b[0m \u001b[0mx_elt\u001b[0m\u001b[0;34m.\u001b[0m\u001b[0m_parent\u001b[0m \u001b[0;32mis\u001b[0m \u001b[0my_elt\u001b[0m\u001b[0;34m.\u001b[0m\u001b[0m_parent\u001b[0m\u001b[0;34m:\u001b[0m\u001b[0;34m\u001b[0m\u001b[0;34m\u001b[0m\u001b[0m\n\u001b[1;32m   1331\u001b[0m                     \u001b[0;32mreturn\u001b[0m \u001b[0mx_elt\u001b[0m\u001b[0;34m,\u001b[0m\u001b[0my_elt\u001b[0m\u001b[0;34m\u001b[0m\u001b[0;34m\u001b[0m\u001b[0m\n\u001b[0;32m-> 1332\u001b[0;31m             \u001b[0mself\u001b[0m\u001b[0;34m.\u001b[0m\u001b[0m_coercion_error\u001b[0m\u001b[0;34m(\u001b[0m\u001b[0mx\u001b[0m\u001b[0;34m,\u001b[0m \u001b[0mx_map\u001b[0m\u001b[0;34m,\u001b[0m \u001b[0mx_elt\u001b[0m\u001b[0;34m,\u001b[0m \u001b[0my\u001b[0m\u001b[0;34m,\u001b[0m \u001b[0my_map\u001b[0m\u001b[0;34m,\u001b[0m \u001b[0my_elt\u001b[0m\u001b[0;34m)\u001b[0m\u001b[0;34m\u001b[0m\u001b[0;34m\u001b[0m\u001b[0m\n\u001b[0m\u001b[1;32m   1333\u001b[0m \u001b[0;34m\u001b[0m\u001b[0m\n\u001b[1;32m   1334\u001b[0m         \u001b[0mcdef\u001b[0m \u001b[0mbint\u001b[0m \u001b[0mx_numeric\u001b[0m \u001b[0;34m=\u001b[0m \u001b[0misinstance\u001b[0m\u001b[0;34m(\u001b[0m\u001b[0mx\u001b[0m\u001b[0;34m,\u001b[0m \u001b[0;34m(\u001b[0m\u001b[0mint\u001b[0m\u001b[0;34m,\u001b[0m \u001b[0mlong\u001b[0m\u001b[0;34m,\u001b[0m \u001b[0mfloat\u001b[0m\u001b[0;34m,\u001b[0m \u001b[0mcomplex\u001b[0m\u001b[0;34m)\u001b[0m\u001b[0;34m)\u001b[0m\u001b[0;34m\u001b[0m\u001b[0;34m\u001b[0m\u001b[0m\n",
      "\u001b[0;32m~/miniconda3/envs/sage/lib/python3.9/site-packages/sage/structure/coerce.pyx\u001b[0m in \u001b[0;36msage.structure.coerce.CoercionModel._coercion_error (build/cythonized/sage/structure/coerce.c:20819)\u001b[0;34m()\u001b[0m\n\u001b[1;32m   2029\u001b[0m             \u001b[0;34m<\u001b[0m\u001b[0mtype\u001b[0m \u001b[0;34m'str'\u001b[0m\u001b[0;34m>\u001b[0m \u001b[0;34m'g'\u001b[0m\u001b[0;34m\u001b[0m\u001b[0;34m\u001b[0m\u001b[0m\n\u001b[1;32m   2030\u001b[0m         \"\"\"\n\u001b[0;32m-> 2031\u001b[0;31m         raise RuntimeError(\"\"\"There is a bug in the coercion code in Sage.\n\u001b[0m\u001b[1;32m   2032\u001b[0m \u001b[0mBoth\u001b[0m \u001b[0mx\u001b[0m \u001b[0;34m(\u001b[0m\u001b[0;34m=\u001b[0m\u001b[0;34m%\u001b[0m\u001b[0mr\u001b[0m\u001b[0;34m)\u001b[0m \u001b[0;32mand\u001b[0m \u001b[0my\u001b[0m \u001b[0;34m(\u001b[0m\u001b[0;34m=\u001b[0m\u001b[0;34m%\u001b[0m\u001b[0mr\u001b[0m\u001b[0;34m)\u001b[0m \u001b[0mare\u001b[0m \u001b[0msupposed\u001b[0m \u001b[0mto\u001b[0m \u001b[0mhave\u001b[0m \u001b[0midentical\u001b[0m \u001b[0mparents\u001b[0m \u001b[0mbut\u001b[0m \u001b[0mthey\u001b[0m \u001b[0mdon\u001b[0m\u001b[0;31m'\u001b[0m\u001b[0mt\u001b[0m\u001b[0;34m.\u001b[0m\u001b[0;34m\u001b[0m\u001b[0;34m\u001b[0m\u001b[0m\n\u001b[1;32m   2033\u001b[0m \u001b[0mIn\u001b[0m \u001b[0mfact\u001b[0m\u001b[0;34m,\u001b[0m \u001b[0mx\u001b[0m \u001b[0mhas\u001b[0m \u001b[0mparent\u001b[0m \u001b[0;34m'%s'\u001b[0m\u001b[0;34m\u001b[0m\u001b[0;34m\u001b[0m\u001b[0m\n",
      "\u001b[0;31mRuntimeError\u001b[0m: There is a bug in the coercion code in Sage.\nBoth x (=()) and y (=(1,182,3,184,5,186,7,188,9,190,11,192,13,194,15,196,17,198,19,200,21,202,23,204,25,206,27,208,29,210,31,212,33,214,35,216,37,218,39,220,41,222,43,224,45,226,47,228,49,230,51,232,53,234,55,236,57,238,59,240)(2,183,4,185,6,187,8,189,10,191,12,193,14,195,16,197,18,199,20,201,22,203,24,205,26,207,28,209,30,211,32,213,34,215,36,217,38,219,40,221,42,223,44,225,46,227,48,229,50,231,52,233,54,235,56,237,58,239,60,181)(61,122,63,124,65,126,67,128,69,130,71,132,73,134,75,136,77,138,79,140,81,142,83,144,85,146,87,148,89,150,91,152,93,154,95,156,97,158,99,160,101,162,103,164,105,166,107,168,109,170,111,172,113,174,115,176,117,178,119,180)(62,123,64,125,66,127,68,129,70,131,72,133,74,135,76,137,78,139,80,141,82,143,84,145,86,147,88,149,90,151,92,153,94,155,96,157,98,159,100,161,102,163,104,165,106,167,108,169,110,171,112,173,114,175,116,177,118,179,120,121)) are supposed to have identical parents but they don't.\nIn fact, x has parent 'Galois group of Cyclotomic Field of order 385 and degree 240'\nwhereas y has parent 'Galois group of Cyclotomic Field of order 385 and degree 240'\nOriginal elements () (parent Galois group of Cyclotomic Field of order 385 and degree 240) and (1,182,3,184,5,186,7,188,9,190,11,192,13,194,15,196,17,198,19,200,21,202,23,204,25,206,27,208,29,210,31,212,33,214,35,216,37,218,39,220,41,222,43,224,45,226,47,228,49,230,51,232,53,234,55,236,57,238,59,240)(2,183,4,185,6,187,8,189,10,191,12,193,14,195,16,197,18,199,20,201,22,203,24,205,26,207,28,209,30,211,32,213,34,215,36,217,38,219,40,221,42,223,44,225,46,227,48,229,50,231,52,233,54,235,56,237,58,239,60,181)(61,122,63,124,65,126,67,128,69,130,71,132,73,134,75,136,77,138,79,140,81,142,83,144,85,146,87,148,89,150,91,152,93,154,95,156,97,158,99,160,101,162,103,164,105,166,107,168,109,170,111,172,113,174,115,176,117,178,119,180)(62,123,64,125,66,127,68,129,70,131,72,133,74,135,76,137,78,139,80,141,82,143,84,145,86,147,88,149,90,151,92,153,94,155,96,157,98,159,100,161,102,163,104,165,106,167,108,169,110,171,112,173,114,175,116,177,118,179,120,121) (parent Galois group of Cyclotomic Field of order 385 and degree 240) and maps\n<class 'NoneType'> None\n<class 'sage.structure.coerce_maps.DefaultConvertMap_unique'> (map internal to coercion system -- copy before use)\nCoercion map:\n  From: Galois group of Cyclotomic Field of order 385 and degree 240\n  To:   Galois group of Cyclotomic Field of order 385 and degree 240"
     ]
    }
   ],
   "source": [
    "ax."
   ]
  },
  {
   "cell_type": "markdown",
   "id": "favorite-porter",
   "metadata": {},
   "source": [
    "## Definition of $\\beta$"
   ]
  },
  {
   "cell_type": "code",
   "execution_count": 102,
   "id": "fifty-drove",
   "metadata": {},
   "outputs": [],
   "source": [
    "def beta0(i : int):\n",
    "    return i"
   ]
  },
  {
   "cell_type": "code",
   "execution_count": 103,
   "id": "promising-scottish",
   "metadata": {},
   "outputs": [
    {
     "data": {
      "text/plain": [
       "[1, 2]"
      ]
     },
     "execution_count": 103,
     "metadata": {},
     "output_type": "execute_result"
    }
   ],
   "source": [
    "[ beta0(i) for i in S]"
   ]
  },
  {
   "cell_type": "code",
   "execution_count": 108,
   "id": "extraordinary-provision",
   "metadata": {},
   "outputs": [],
   "source": [
    "def beta(I : set):\n",
    "    r = 1\n",
    "    for j in I:\n",
    "        r = r * beta0(j)\n",
    "    return r"
   ]
  },
  {
   "cell_type": "markdown",
   "id": "processed-branch",
   "metadata": {},
   "source": [
    "# Calculation of the index\n",
    "First we define the number field $K$ as the Maximal Real subfield of $\\mathbb{Q}(\\zeta_n)$"
   ]
  },
  {
   "cell_type": "code",
   "execution_count": 183,
   "id": "hearing-charity",
   "metadata": {},
   "outputs": [],
   "source": [
    "Fn.<z> = CyclotomicField(n)\n",
    "K = Fn.subfield(z + z^-1)"
   ]
  },
  {
   "cell_type": "markdown",
   "id": "matched-julian",
   "metadata": {},
   "source": [
    "We define $\\epsilon_i$ knowing that is equal to $\\phi(p_i^{e_i})$"
   ]
  },
  {
   "cell_type": "code",
   "execution_count": 184,
   "id": "passive-spectrum",
   "metadata": {},
   "outputs": [],
   "source": [
    "def eps(i):\n",
    "    return euler_phi(fn[i-1][0]**fn[i-1][1])"
   ]
  },
  {
   "cell_type": "code",
   "execution_count": 185,
   "id": "knowing-stewart",
   "metadata": {},
   "outputs": [
    {
     "data": {
      "text/plain": [
       "6"
      ]
     },
     "execution_count": 185,
     "metadata": {},
     "output_type": "execute_result"
    }
   ],
   "source": [
    "eps(2)"
   ]
  },
  {
   "cell_type": "code",
   "execution_count": 186,
   "id": "hearing-division",
   "metadata": {},
   "outputs": [],
   "source": [
    "zz = z + z.conjugate()"
   ]
  },
  {
   "cell_type": "code",
   "execution_count": 187,
   "id": "imposed-coach",
   "metadata": {},
   "outputs": [],
   "source": [
    "K = NumberField(zz.minpoly(),'a')"
   ]
  },
  {
   "cell_type": "code",
   "execution_count": 188,
   "id": "miniature-thursday",
   "metadata": {},
   "outputs": [],
   "source": [
    "def g(i):\n",
    "    I = K.ideal(fn[i-1][0])\n",
    "    return len(I.factor())"
   ]
  },
  {
   "cell_type": "code",
   "execution_count": 189,
   "id": "conscious-malpractice",
   "metadata": {},
   "outputs": [
    {
     "data": {
      "text/plain": [
       "1"
      ]
     },
     "execution_count": 189,
     "metadata": {},
     "output_type": "execute_result"
    }
   ],
   "source": [
    "g(2)"
   ]
  },
  {
   "cell_type": "markdown",
   "id": "magnetic-circuit",
   "metadata": {},
   "source": [
    "For $f_i$ we use the equality $[K:\\mathbb{Q}] = \\epsilon_i g_i f_i $ since we know the other three elements.  \n",
    "*Memo*: $[K:\\mathbb{Q}] = \\phi(n)/2 $"
   ]
  },
  {
   "cell_type": "code",
   "execution_count": 164,
   "id": "underlying-workstation",
   "metadata": {},
   "outputs": [],
   "source": [
    "def f(i):\n",
    "    return euler_phi(n)/(2*g(i)*eps(i))"
   ]
  },
  {
   "cell_type": "code",
   "execution_count": 168,
   "id": "talented-barcelona",
   "metadata": {},
   "outputs": [
    {
     "data": {
      "text/plain": [
       "1"
      ]
     },
     "execution_count": 168,
     "metadata": {},
     "output_type": "execute_result"
    }
   ],
   "source": [
    "f(2)"
   ]
  },
  {
   "cell_type": "markdown",
   "id": "plastic-syndication",
   "metadata": {},
   "source": [
    "So we have that:"
   ]
  },
  {
   "cell_type": "code",
   "execution_count": 199,
   "id": "taken-philippines",
   "metadata": {},
   "outputs": [],
   "source": [
    "def i_b():\n",
    "    i_b=1\n",
    "    for i in S:\n",
    "        i_b *= (eps(i)**(g(i)-1)) * (f(i)**(2*g(i) -1))\n",
    "    return i_b"
   ]
  },
  {
   "cell_type": "code",
   "execution_count": 194,
   "id": "accessory-swimming",
   "metadata": {},
   "outputs": [
    {
     "data": {
      "text/plain": [
       "1312200000"
      ]
     },
     "execution_count": 194,
     "metadata": {},
     "output_type": "execute_result"
    }
   ],
   "source": [
    "i = i_b(n)\n",
    "i"
   ]
  },
  {
   "cell_type": "code",
   "execution_count": 195,
   "id": "associate-praise",
   "metadata": {},
   "outputs": [
    {
     "data": {
      "text/plain": [
       "2^6 * 3^8 * 5^5"
      ]
     },
     "execution_count": 195,
     "metadata": {},
     "output_type": "execute_result"
    }
   ],
   "source": [
    "factor(i)"
   ]
  },
  {
   "cell_type": "code",
   "execution_count": 221,
   "id": "biological-recommendation",
   "metadata": {},
   "outputs": [],
   "source": [
    "def i_b_compressed(n):\n",
    "    fn = factor(n)\n",
    "    s = len(fn)\n",
    "    S = [ i +1 for i in range(s)]\n",
    "    K.<z> = CyclotomicField(n)\n",
    "    zz = z + z.conjugate()\n",
    "    K = NumberField(zz.minpoly(),'a')\n",
    "    ibb=1\n",
    "    for j in S:\n",
    "        eps = euler_phi(fn[j-1][0]**fn[j-1][1])\n",
    "        g = len(K.ideal(fn[j-1][0]).factor())\n",
    "        f = euler_phi(n)/(2*g*eps)\n",
    "        ibb *= (eps**(g-1)) * (f**(2*g-1))\n",
    "    return ibb"
   ]
  },
  {
   "cell_type": "code",
   "execution_count": 223,
   "id": "cooked-salem",
   "metadata": {},
   "outputs": [
    {
     "data": {
      "text/plain": [
       "2^29 * 3^14 * 5^12"
      ]
     },
     "execution_count": 223,
     "metadata": {},
     "output_type": "execute_result"
    }
   ],
   "source": [
    "factor(i_b_compressed(3*5*7*11))"
   ]
  },
  {
   "cell_type": "code",
   "execution_count": null,
   "id": "regulated-kenya",
   "metadata": {},
   "outputs": [],
   "source": []
  }
 ],
 "metadata": {
  "kernelspec": {
   "display_name": "SageMath 9.2",
   "language": "sage",
   "name": "sagemath"
  },
  "language_info": {
   "codemirror_mode": {
    "name": "ipython",
    "version": 3
   },
   "file_extension": ".py",
   "mimetype": "text/x-python",
   "name": "python",
   "nbconvert_exporter": "python",
   "pygments_lexer": "ipython3",
   "version": "3.9.1"
  }
 },
 "nbformat": 4,
 "nbformat_minor": 5
}
