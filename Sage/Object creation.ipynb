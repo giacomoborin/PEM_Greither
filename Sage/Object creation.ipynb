{
 "cells": [
  {
   "cell_type": "code",
   "execution_count": 1,
   "id": "classical-reaction",
   "metadata": {},
   "outputs": [],
   "source": [
    "G = [ i for i in Zmod(15) if gcd(i,15)==1 and i <= 15//2]"
   ]
  },
  {
   "cell_type": "code",
   "execution_count": 2,
   "id": "blessed-christian",
   "metadata": {},
   "outputs": [],
   "source": [
    "from sage.groups.group import Group"
   ]
  },
  {
   "cell_type": "code",
   "execution_count": 7,
   "id": "isolated-information",
   "metadata": {},
   "outputs": [
    {
     "data": {
      "text/plain": [
       "['Hom',\n",
       " '__bool__',\n",
       " '__cached_methods',\n",
       " '__call__',\n",
       " '__class__',\n",
       " '__contains__',\n",
       " '__delattr__',\n",
       " '__dir__',\n",
       " '__doc__',\n",
       " '__eq__',\n",
       " '__format__',\n",
       " '__ge__',\n",
       " '__gens_dict',\n",
       " '__getattribute__',\n",
       " '__getitem__',\n",
       " '__getstate__',\n",
       " '__gt__',\n",
       " '__hash__',\n",
       " '__init__',\n",
       " '__init_subclass__',\n",
       " '__le__',\n",
       " '__lt__',\n",
       " '__make_element_class__',\n",
       " '__mul__',\n",
       " '__ne__',\n",
       " '__new__',\n",
       " '__pari__',\n",
       " '__pyx_vtable__',\n",
       " '__reduce__',\n",
       " '__reduce_ex__',\n",
       " '__repr__',\n",
       " '__rmul__',\n",
       " '__setattr__',\n",
       " '__setstate__',\n",
       " '__sizeof__',\n",
       " '__str__',\n",
       " '__subclasshook__',\n",
       " '__temporarily_change_names',\n",
       " '_abstract_element_class',\n",
       " '_an_element_',\n",
       " '_ascii_art_',\n",
       " '_assign_names',\n",
       " '_axiom_',\n",
       " '_axiom_init_',\n",
       " '_base',\n",
       " '_cache_an_element',\n",
       " '_cache_key',\n",
       " '_coerce_map_from_',\n",
       " '_coerce_map_via',\n",
       " '_coercions_used',\n",
       " '_convert_map_from_',\n",
       " '_convert_method_map',\n",
       " '_convert_method_name',\n",
       " '_defining_names',\n",
       " '_factory_data',\n",
       " '_first_ngens',\n",
       " '_fricas_',\n",
       " '_fricas_init_',\n",
       " '_gap_',\n",
       " '_gap_init_',\n",
       " '_generic_coerce_map',\n",
       " '_generic_convert_map',\n",
       " '_get_action_',\n",
       " '_giac_',\n",
       " '_giac_init_',\n",
       " '_gp_',\n",
       " '_gp_init_',\n",
       " '_init_category_',\n",
       " '_initial_action_list',\n",
       " '_initial_coerce_list',\n",
       " '_initial_convert_list',\n",
       " '_interface_',\n",
       " '_interface_init_',\n",
       " '_interface_is_cached_',\n",
       " '_internal_coerce_map_from',\n",
       " '_internal_convert_map_from',\n",
       " '_introspect_coerce',\n",
       " '_is_category_initialized',\n",
       " '_is_coercion_cached',\n",
       " '_is_conversion_cached',\n",
       " '_is_numerical',\n",
       " '_is_real_numerical',\n",
       " '_is_valid_homomorphism_',\n",
       " '_kash_',\n",
       " '_kash_init_',\n",
       " '_libgap_',\n",
       " '_libgap_init_',\n",
       " '_macaulay2_',\n",
       " '_macaulay2_init_',\n",
       " '_magma_init_',\n",
       " '_maple_',\n",
       " '_maple_init_',\n",
       " '_mathematica_',\n",
       " '_mathematica_init_',\n",
       " '_maxima_',\n",
       " '_maxima_init_',\n",
       " '_maxima_lib_',\n",
       " '_maxima_lib_init_',\n",
       " '_names',\n",
       " '_octave_',\n",
       " '_octave_init_',\n",
       " '_pari_init_',\n",
       " '_polymake_',\n",
       " '_polymake_init_',\n",
       " '_populate_coercion_lists_',\n",
       " '_r_init_',\n",
       " '_refine_category_',\n",
       " '_remove_from_coerce_cache',\n",
       " '_repr_option',\n",
       " '_sage_',\n",
       " '_set_element_constructor',\n",
       " '_singular_',\n",
       " '_singular_init_',\n",
       " '_test_category',\n",
       " '_test_eq',\n",
       " '_test_new',\n",
       " '_test_not_implemented_methods',\n",
       " '_test_pickling',\n",
       " '_tester',\n",
       " '_underlying_class',\n",
       " '_unicode_art_',\n",
       " '_unset_category',\n",
       " '_unset_coercions_used',\n",
       " '_unset_embedding',\n",
       " 'an_element',\n",
       " 'base',\n",
       " 'base_ring',\n",
       " 'categories',\n",
       " 'category',\n",
       " 'coerce',\n",
       " 'coerce_embedding',\n",
       " 'coerce_map_from',\n",
       " 'convert_map_from',\n",
       " 'dump',\n",
       " 'dumps',\n",
       " 'element_class',\n",
       " 'gens_dict',\n",
       " 'gens_dict_recursive',\n",
       " 'get_action',\n",
       " 'has_coerce_map_from',\n",
       " 'hom',\n",
       " 'inject_variables',\n",
       " 'is_abelian',\n",
       " 'is_commutative',\n",
       " 'is_exact',\n",
       " 'is_finite',\n",
       " 'is_multiplicative',\n",
       " 'latex_name',\n",
       " 'latex_variable_names',\n",
       " 'objgen',\n",
       " 'objgens',\n",
       " 'order',\n",
       " 'parent',\n",
       " 'quotient',\n",
       " 'register_action',\n",
       " 'register_coercion',\n",
       " 'register_conversion',\n",
       " 'register_embedding',\n",
       " 'rename',\n",
       " 'reset_name',\n",
       " 'save',\n",
       " 'variable_name',\n",
       " 'variable_names']"
      ]
     },
     "execution_count": 7,
     "metadata": {},
     "output_type": "execute_result"
    }
   ],
   "source": [
    "[p for p in dir(Group)]"
   ]
  },
  {
   "cell_type": "code",
   "execution_count": 15,
   "id": "increasing-pearl",
   "metadata": {},
   "outputs": [],
   "source": [
    "class myGroup():\n",
    "    G\n",
    "    def __init__(n : int):\n",
    "        G = Set([ i for i in Zmod(n) if gcd(i,n)==1 and i <= n//2])\n",
    "    def p(H : myGroup())"
   ]
  },
  {
   "cell_type": "code",
   "execution_count": 8,
   "id": "secure-penguin",
   "metadata": {},
   "outputs": [],
   "source": [
    "n = 225"
   ]
  },
  {
   "cell_type": "code",
   "execution_count": 32,
   "id": "applied-jersey",
   "metadata": {},
   "outputs": [],
   "source": [
    "Qn.<z>=CyclotomicField(n)"
   ]
  },
  {
   "cell_type": "code",
   "execution_count": 31,
   "id": "former-bulgaria",
   "metadata": {},
   "outputs": [
    {
     "data": {
      "text/html": [
       "<html><script type=\"math/tex; mode=display\">\\newcommand{\\Bold}[1]{\\mathbf{#1}}z^{4}</script></html>"
      ],
      "text/latex": [
       "\\begin{math}\n",
       "\\newcommand{\\Bold}[1]{\\mathbf{#1}}z^{4}\n",
       "\\end{math}"
      ],
      "text/plain": [
       "z^4"
      ]
     },
     "metadata": {},
     "output_type": "display_data"
    }
   ],
   "source": [
    "show(z**454)"
   ]
  },
  {
   "cell_type": "code",
   "execution_count": 40,
   "id": "supported-biodiversity",
   "metadata": {},
   "outputs": [],
   "source": [
    "G0=[ a for a in [1..n//2] if gcd(a,n)==1]"
   ]
  },
  {
   "cell_type": "code",
   "execution_count": 41,
   "id": "determined-episode",
   "metadata": {
    "collapsed": true
   },
   "outputs": [
    {
     "data": {
      "text/plain": [
       "[1,\n",
       " 2,\n",
       " 4,\n",
       " 7,\n",
       " 8,\n",
       " 11,\n",
       " 13,\n",
       " 14,\n",
       " 16,\n",
       " 17,\n",
       " 19,\n",
       " 22,\n",
       " 23,\n",
       " 26,\n",
       " 28,\n",
       " 29,\n",
       " 31,\n",
       " 32,\n",
       " 34,\n",
       " 37,\n",
       " 38,\n",
       " 41,\n",
       " 43,\n",
       " 44,\n",
       " 46,\n",
       " 47,\n",
       " 49,\n",
       " 52,\n",
       " 53,\n",
       " 56,\n",
       " 58,\n",
       " 59,\n",
       " 61,\n",
       " 62,\n",
       " 64,\n",
       " 67,\n",
       " 68,\n",
       " 71,\n",
       " 73,\n",
       " 74,\n",
       " 76,\n",
       " 77,\n",
       " 79,\n",
       " 82,\n",
       " 83,\n",
       " 86,\n",
       " 88,\n",
       " 89,\n",
       " 91,\n",
       " 92,\n",
       " 94,\n",
       " 97,\n",
       " 98,\n",
       " 101,\n",
       " 103,\n",
       " 104,\n",
       " 106,\n",
       " 107,\n",
       " 109,\n",
       " 112]"
      ]
     },
     "execution_count": 41,
     "metadata": {},
     "output_type": "execute_result"
    }
   ],
   "source": [
    "G0"
   ]
  },
  {
   "cell_type": "code",
   "execution_count": 13,
   "id": "junior-powell",
   "metadata": {},
   "outputs": [],
   "source": [
    "z25=z^9"
   ]
  },
  {
   "cell_type": "code",
   "execution_count": 22,
   "id": "czech-flood",
   "metadata": {},
   "outputs": [
    {
     "data": {
      "text/plain": [
       "[28, 53, 103]"
      ]
     },
     "execution_count": 22,
     "metadata": {},
     "output_type": "execute_result"
    }
   ],
   "source": [
    "[a for a in G0 if z25^a==z25^3]"
   ]
  },
  {
   "cell_type": "code",
   "execution_count": 23,
   "id": "minimal-mouse",
   "metadata": {},
   "outputs": [
    {
     "data": {
      "text/plain": [
       "z^27"
      ]
     },
     "execution_count": 23,
     "metadata": {},
     "output_type": "execute_result"
    }
   ],
   "source": [
    "z25^28"
   ]
  },
  {
   "cell_type": "code",
   "execution_count": 37,
   "id": "successful-flash",
   "metadata": {},
   "outputs": [],
   "source": [
    "f = Qn.hom(z^2,Qn)"
   ]
  },
  {
   "cell_type": "code",
   "execution_count": 35,
   "id": "trying-january",
   "metadata": {},
   "outputs": [
    {
     "data": {
      "text/plain": [
       "-z^118 + z^103 - z^73 + z^58 - z^43 + z^13 + z^2"
      ]
     },
     "execution_count": 35,
     "metadata": {},
     "output_type": "execute_result"
    }
   ],
   "source": [
    "f(z+z^-1)"
   ]
  },
  {
   "cell_type": "code",
   "execution_count": 46,
   "id": "traditional-premiere",
   "metadata": {},
   "outputs": [],
   "source": [
    "f1 = Qn.hom([z^4])"
   ]
  },
  {
   "cell_type": "code",
   "execution_count": 47,
   "id": "dependent-glenn",
   "metadata": {},
   "outputs": [
    {
     "data": {
      "text/plain": [
       "Ring endomorphism of Cyclotomic Field of order 225 and degree 120\n",
       "  Defn: z |--> z^8"
      ]
     },
     "execution_count": 47,
     "metadata": {},
     "output_type": "execute_result"
    }
   ],
   "source": [
    "f*f1"
   ]
  },
  {
   "cell_type": "code",
   "execution_count": 49,
   "id": "adolescent-talent",
   "metadata": {},
   "outputs": [
    {
     "data": {
      "text/plain": [
       "z^8 + 1"
      ]
     },
     "execution_count": 49,
     "metadata": {},
     "output_type": "execute_result"
    }
   ],
   "source": [
    "(f*f1)(z+1)"
   ]
  },
  {
   "cell_type": "code",
   "execution_count": 52,
   "id": "balanced-allowance",
   "metadata": {},
   "outputs": [
    {
     "data": {
      "text/plain": [
       "Ring endomorphism of Cyclotomic Field of order 225 and degree 120\n",
       "  Defn: z |--> z^64"
      ]
     },
     "execution_count": 52,
     "metadata": {},
     "output_type": "execute_result"
    }
   ],
   "source": [
    "f1**3"
   ]
  },
  {
   "cell_type": "code",
   "execution_count": 53,
   "id": "auburn-investor",
   "metadata": {},
   "outputs": [
    {
     "data": {
      "text/plain": [
       "-z^119 + z^104 - z^74 + z^59 - z^44 + z^14"
      ]
     },
     "execution_count": 53,
     "metadata": {},
     "output_type": "execute_result"
    }
   ],
   "source": [
    "z^-1"
   ]
  },
  {
   "cell_type": "code",
   "execution_count": 54,
   "id": "owned-matter",
   "metadata": {},
   "outputs": [
    {
     "data": {
      "text/plain": [
       "z^119 + z^118 + z^117 + z^116 + z^115 + z^114 + z^113 + z^112 + z^111 + z^110 + z^109 + z^108 + z^107 + z^106 + z^105 + z^74 + z^73 + z^72 + z^71 + z^70 + z^69 + z^68 + z^67 + z^66 + z^65 + z^64 + z^63 + z^62 + z^61 + z^60 + z^44 + z^43 + z^42 + z^41 + z^40 + z^39 + z^38 + z^37 + z^36 + z^35 + z^34 + z^33 + z^32 + z^31 + z^30 + z^29 + z^28 + z^27 + z^26 + z^25 + z^24 + z^23 + z^22 + z^21 + z^20 + z^19 + z^18 + z^17 + z^16 + z^15"
      ]
     },
     "execution_count": 54,
     "metadata": {},
     "output_type": "execute_result"
    }
   ],
   "source": [
    "1/(1-z)"
   ]
  },
  {
   "cell_type": "code",
   "execution_count": 56,
   "id": "aquatic-illness",
   "metadata": {},
   "outputs": [
    {
     "data": {
      "text/plain": [
       "z^113"
      ]
     },
     "execution_count": 56,
     "metadata": {},
     "output_type": "execute_result"
    }
   ],
   "source": [
    "z**(1/2)"
   ]
  },
  {
   "cell_type": "code",
   "execution_count": 60,
   "id": "looking-beijing",
   "metadata": {},
   "outputs": [
    {
     "data": {
      "text/plain": [
       "z"
      ]
     },
     "execution_count": 60,
     "metadata": {},
     "output_type": "execute_result"
    }
   ],
   "source": [
    "z^(113*2)"
   ]
  },
  {
   "cell_type": "code",
   "execution_count": 65,
   "id": "neutral-hopkins",
   "metadata": {},
   "outputs": [],
   "source": [
    "N = 3*5*7\n",
    "Qn.<z> = CyclotomicField(N)"
   ]
  },
  {
   "cell_type": "code",
   "execution_count": 64,
   "id": "competent-matrix",
   "metadata": {},
   "outputs": [
    {
     "data": {
      "text/plain": [
       "-z^47 - z^46 - z^45 + z^42 + z^41 + 2*z^40 + z^39 + z^38 - z^35 - z^34 - z^33 - z^32 - z^31 - z^30 + z^27 + z^25 + z^23 + z^21 + z^19 - z^16 - z^15 - z^14 - z^13 - z^12 - z^11 + z^8 + z^7 + 2*z^6 + z^5 + z^4 - z - 1"
      ]
     },
     "execution_count": 64,
     "metadata": {},
     "output_type": "execute_result"
    }
   ],
   "source": [
    "z^-1"
   ]
  },
  {
   "cell_type": "code",
   "execution_count": 1,
   "id": "electronic-benefit",
   "metadata": {},
   "outputs": [
    {
     "data": {
      "text/plain": [
       "2"
      ]
     },
     "execution_count": 1,
     "metadata": {},
     "output_type": "execute_result"
    }
   ],
   "source": [
    "1+1"
   ]
  },
  {
   "cell_type": "code",
   "execution_count": 4,
   "id": "private-frontier",
   "metadata": {},
   "outputs": [],
   "source": [
    "n=5*7*11"
   ]
  },
  {
   "cell_type": "code",
   "execution_count": 5,
   "id": "monthly-brooklyn",
   "metadata": {},
   "outputs": [
    {
     "data": {
      "text/plain": [
       "5 * 7 * 11"
      ]
     },
     "execution_count": 5,
     "metadata": {},
     "output_type": "execute_result"
    }
   ],
   "source": [
    "factor(n)"
   ]
  },
  {
   "cell_type": "code",
   "execution_count": null,
   "id": "fuzzy-assets",
   "metadata": {},
   "outputs": [],
   "source": [
    "def corr(r):\n",
    "    if r not in G:\n",
    "        r = n-r\n",
    "    return r\n",
    "def power(x,a):\n",
    "    r = power_mod(x,a,n)\n",
    "    return corr(r)\n",
    "\n",
    "def mol(x,y):\n",
    "    r = mod(x*y,n)\n",
    "    return corr(n)"
   ]
  },
  {
   "cell_type": "code",
   "execution_count": 6,
   "id": "db7111da",
   "metadata": {},
   "outputs": [],
   "source": [
    "H = G.subgroup([(1,2) , (2,3)])"
   ]
  },
  {
   "cell_type": "code",
   "execution_count": 12,
   "id": "0b9822b7",
   "metadata": {},
   "outputs": [
    {
     "data": {
      "text/plain": [
       "Ring of integers modulo 7"
      ]
     },
     "execution_count": 12,
     "metadata": {},
     "output_type": "execute_result"
    }
   ],
   "source": [
    "G.quotient(A)"
   ]
  },
  {
   "cell_type": "code",
   "execution_count": null,
   "id": "8b5c9f8b",
   "metadata": {},
   "outputs": [],
   "source": []
  }
 ],
 "metadata": {
  "kernelspec": {
   "display_name": "SageMath 9.2",
   "language": "sage",
   "name": "sagemath"
  },
  "language_info": {
   "codemirror_mode": {
    "name": "ipython",
    "version": 3
   },
   "file_extension": ".py",
   "mimetype": "text/x-python",
   "name": "python",
   "nbconvert_exporter": "python",
   "pygments_lexer": "ipython3",
   "version": "3.9.1"
  }
 },
 "nbformat": 4,
 "nbformat_minor": 5
}
